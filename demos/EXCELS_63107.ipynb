{
 "cells": [
  {
   "cell_type": "code",
   "execution_count": null,
   "id": "1b98ac81",
   "metadata": {},
   "outputs": [],
   "source": [
    "from astroquery.mast import Observations\n",
    "import os"
   ]
  },
  {
   "cell_type": "code",
   "execution_count": 6,
   "id": "d021a191",
   "metadata": {},
   "outputs": [
    {
     "name": "stdout",
     "output_type": "stream",
     "text": [
      "INFO: MAST API token accepted, welcome Raunaq Rai [astroquery.mast.auth]\n"
     ]
    }
   ],
   "source": [
    "# Option 1: Respond to prompt. Uncomment the line below\n",
    "Observations.login()"
   ]
  },
  {
   "cell_type": "code",
   "execution_count": 7,
   "id": "9a4b8b06",
   "metadata": {},
   "outputs": [
    {
     "name": "stdout",
     "output_type": "stream",
     "text": [
      "INFO: MAST API token accepted, welcome Raunaq Rai [astroquery.mast.auth]\n"
     ]
    }
   ],
   "source": [
    "Observations.login(store_token=True)"
   ]
  },
  {
   "cell_type": "code",
   "execution_count": 8,
   "id": "ae954ba0",
   "metadata": {},
   "outputs": [
    {
     "name": "stdout",
     "output_type": "stream",
     "text": [
      "eppn: ucaprs2@stsci.edu\n",
      "ezid: ucaprs2\n",
      "attrib.uuid: 9bf8dece-1847-473c-afcf-b5ce414a2921\n",
      "attrib.first_name: Raunaq\n",
      "attrib.last_name: Rai\n",
      "attrib.display_name: Raunaq Rai\n",
      "attrib.internal: 0\n",
      "attrib.email: ucaprs2@ucl.ac.uk\n",
      "attrib.Jwstcalengdataaccess: false\n",
      "anon: False\n",
      "scopes: ['mast:user:info', 'mast:exclusive_access']\n",
      "session: None\n",
      "token: b02cea84...\n"
     ]
    }
   ],
   "source": [
    "session_info = Observations.session_info()"
   ]
  },
  {
   "cell_type": "code",
   "execution_count": 37,
   "id": "fdd34c9c",
   "metadata": {},
   "outputs": [
    {
     "data": {
      "text/html": [
       "<div>\n",
       "<style scoped>\n",
       "    .dataframe tbody tr th:only-of-type {\n",
       "        vertical-align: middle;\n",
       "    }\n",
       "\n",
       "    .dataframe tbody tr th {\n",
       "        vertical-align: top;\n",
       "    }\n",
       "\n",
       "    .dataframe thead th {\n",
       "        text-align: right;\n",
       "    }\n",
       "</style>\n",
       "<table border=\"1\" class=\"dataframe\">\n",
       "  <thead>\n",
       "    <tr style=\"text-align: right;\">\n",
       "      <th></th>\n",
       "      <th>intentType</th>\n",
       "      <th>obs_collection</th>\n",
       "      <th>provenance_name</th>\n",
       "      <th>instrument_name</th>\n",
       "      <th>project</th>\n",
       "      <th>filters</th>\n",
       "      <th>wavelength_region</th>\n",
       "      <th>target_name</th>\n",
       "      <th>target_classification</th>\n",
       "      <th>obs_id</th>\n",
       "      <th>...</th>\n",
       "      <th>proposal_type</th>\n",
       "      <th>sequence_number</th>\n",
       "      <th>s_region</th>\n",
       "      <th>jpegURL</th>\n",
       "      <th>dataURL</th>\n",
       "      <th>dataRights</th>\n",
       "      <th>mtFlag</th>\n",
       "      <th>srcDen</th>\n",
       "      <th>obsid</th>\n",
       "      <th>objID</th>\n",
       "    </tr>\n",
       "  </thead>\n",
       "  <tbody>\n",
       "    <tr>\n",
       "      <th>46</th>\n",
       "      <td>science</td>\n",
       "      <td>JWST</td>\n",
       "      <td>CALJWST</td>\n",
       "      <td>NIRSPEC/MSA</td>\n",
       "      <td>JWST</td>\n",
       "      <td>F290LP;G395M</td>\n",
       "      <td>INFRARED</td>\n",
       "      <td>excels_apt_cat_pointing_4</td>\n",
       "      <td>NaN</td>\n",
       "      <td>jw03543-o004_s000063107_nirspec_f290lp-g395m</td>\n",
       "      <td>...</td>\n",
       "      <td>GO</td>\n",
       "      <td>&lt;NA&gt;</td>\n",
       "      <td>POLYGON 34.320066574 -5.222346573 34.320518395...</td>\n",
       "      <td>mast:JWST/product/jw03543-o004_s000063107_nirs...</td>\n",
       "      <td>mast:JWST/product/jw03543-o004_s000063107_nirs...</td>\n",
       "      <td>PUBLIC</td>\n",
       "      <td>False</td>\n",
       "      <td>NaN</td>\n",
       "      <td>232886050</td>\n",
       "      <td>996671282</td>\n",
       "    </tr>\n",
       "  </tbody>\n",
       "</table>\n",
       "<p>1 rows × 33 columns</p>\n",
       "</div>"
      ],
      "text/plain": [
       "   intentType obs_collection provenance_name instrument_name project  \\\n",
       "46    science           JWST         CALJWST     NIRSPEC/MSA    JWST   \n",
       "\n",
       "         filters wavelength_region                target_name  \\\n",
       "46  F290LP;G395M          INFRARED  excels_apt_cat_pointing_4   \n",
       "\n",
       "   target_classification                                        obs_id  ...  \\\n",
       "46                   NaN  jw03543-o004_s000063107_nirspec_f290lp-g395m  ...   \n",
       "\n",
       "    proposal_type  sequence_number  \\\n",
       "46             GO             <NA>   \n",
       "\n",
       "                                             s_region  \\\n",
       "46  POLYGON 34.320066574 -5.222346573 34.320518395...   \n",
       "\n",
       "                                              jpegURL  \\\n",
       "46  mast:JWST/product/jw03543-o004_s000063107_nirs...   \n",
       "\n",
       "                                              dataURL  dataRights  mtFlag  \\\n",
       "46  mast:JWST/product/jw03543-o004_s000063107_nirs...      PUBLIC   False   \n",
       "\n",
       "    srcDen      obsid      objID  \n",
       "46     NaN  232886050  996671282  \n",
       "\n",
       "[1 rows x 33 columns]"
      ]
     },
     "execution_count": 37,
     "metadata": {},
     "output_type": "execute_result"
    }
   ],
   "source": [
    "from astroquery.mast import Observations\n",
    "\n",
    "# Query EXCELS\n",
    "obs_list = Observations.query_criteria(proposal_id=3543)\n",
    "\n",
    "# Convert to pandas for easy searching\n",
    "df = obs_list.to_pandas()\n",
    "\n",
    "# Find rows containing \"63107\" anywhere (string match)\n",
    "mask = df.astype(str).apply(lambda x: x.str.contains(\"63107\")).any(axis=1)\n",
    "matches = df[mask]\n",
    "\n",
    "matches\n"
   ]
  },
  {
   "cell_type": "code",
   "execution_count": 38,
   "id": "16fbb553",
   "metadata": {},
   "outputs": [
    {
     "data": {
      "text/html": [
       "<div><i>Table masked=True length=738</i>\n",
       "<table id=\"table5269878544\" class=\"table-striped table-bordered table-condensed\">\n",
       "<thead><tr><th>intentType</th><th>obs_collection</th><th>provenance_name</th><th>instrument_name</th><th>project</th><th>filters</th><th>wavelength_region</th><th>target_name</th><th>target_classification</th><th>obs_id</th><th>s_ra</th><th>s_dec</th><th>dataproduct_type</th><th>proposal_pi</th><th>calib_level</th><th>t_min</th><th>t_max</th><th>t_exptime</th><th>em_min</th><th>em_max</th><th>obs_title</th><th>t_obs_release</th><th>proposal_id</th><th>proposal_type</th><th>sequence_number</th><th>s_region</th><th>jpegURL</th><th>dataURL</th><th>dataRights</th><th>mtFlag</th><th>srcDen</th><th>obsid</th><th>objID</th></tr></thead>\n",
       "<thead><tr><th>str7</th><th>str4</th><th>str7</th><th>str11</th><th>str4</th><th>str12</th><th>str8</th><th>str25</th><th>str1</th><th>str44</th><th>float64</th><th>float64</th><th>str8</th><th>str13</th><th>int64</th><th>float64</th><th>float64</th><th>float64</th><th>float64</th><th>float64</th><th>str66</th><th>float64</th><th>str4</th><th>str2</th><th>int64</th><th>str111</th><th>str70</th><th>str71</th><th>str6</th><th>bool</th><th>float64</th><th>str9</th><th>str9</th></tr></thead>\n",
       "<tr><td>science</td><td>JWST</td><td>CALJWST</td><td>NIRSPEC/MSA</td><td>JWST</td><td>F100LP;G140M</td><td>INFRARED</td><td>excels_apt_cat_pointing_4</td><td>--</td><td>jw03543-o004_b000000002_nirspec_f100lp-g140m</td><td>34.28280541666666</td><td>-5.238541666666663</td><td>spectrum</td><td>Carnall, Adam</td><td>3</td><td>60329.610876516206</td><td>60330.06755842592</td><td>14443.002</td><td>700.0</td><td>5000.0</td><td>EXCELS: The Early eXtragalactic Continuum and Emission Line Survey</td><td>60696.87755783</td><td>3543</td><td>GO</td><td>--</td><td>POLYGON 34.300849898 -5.268308549 34.301200246 -5.268308549 34.301200246 -5.269132756 34.300849898 -5.269132756</td><td>mast:JWST/product/jw03543-o004_b000000002_nirspec_f100lp-g140m_cal.jpg</td><td>mast:JWST/product/jw03543-o004_b000000002_nirspec_f100lp-g140m_s2d.fits</td><td>PUBLIC</td><td>False</td><td>nan</td><td>232886033</td><td>996670559</td></tr>\n",
       "<tr><td>science</td><td>JWST</td><td>CALJWST</td><td>NIRSPEC/MSA</td><td>JWST</td><td>F290LP;G395M</td><td>INFRARED</td><td>excels_apt_cat_pointing_4</td><td>--</td><td>jw03543-o004_s000041292_nirspec_f290lp-g395m</td><td>34.28280541666666</td><td>-5.238541666666663</td><td>spectrum</td><td>Carnall, Adam</td><td>3</td><td>60329.610876516206</td><td>60330.242334560186</td><td>14443.002</td><td>2870.0</td><td>5100.0</td><td>EXCELS: The Early eXtragalactic Continuum and Emission Line Survey</td><td>60696.87763885</td><td>3543</td><td>GO</td><td>--</td><td>POLYGON 34.299616693 -5.258493815 34.300082223 -5.258493815 34.300082223 -5.259584094 34.299616693 -5.259584094</td><td>mast:JWST/product/jw03543-o004_s000041292_nirspec_f290lp-g395m_cal.jpg</td><td>mast:JWST/product/jw03543-o004_s000041292_nirspec_f290lp-g395m_s2d.fits</td><td>PUBLIC</td><td>False</td><td>nan</td><td>232887315</td><td>996670576</td></tr>\n",
       "<tr><td>science</td><td>JWST</td><td>CALJWST</td><td>NIRSPEC/MSA</td><td>JWST</td><td>F170LP;G235M</td><td>INFRARED</td><td>excels_apt_cat_pointing_4</td><td>--</td><td>jw03543-o004_b000000089_nirspec_f170lp-g235m</td><td>34.28280541666666</td><td>-5.238541666666663</td><td>spectrum</td><td>Carnall, Adam</td><td>3</td><td>60329.610876516206</td><td>60330.06755842592</td><td>19695.0</td><td>1660.0</td><td>5000.0</td><td>EXCELS: The Early eXtragalactic Continuum and Emission Line Survey</td><td>60696.87763885</td><td>3543</td><td>GO</td><td>--</td><td>POLYGON 34.284455489 -5.256437073 34.284808882 -5.256437073 34.284808882 -5.257256122 34.284455489 -5.257256122</td><td>mast:JWST/product/jw03543-o004_b000000089_nirspec_f170lp-g235m_cal.jpg</td><td>mast:JWST/product/jw03543-o004_b000000089_nirspec_f170lp-g235m_s2d.fits</td><td>PUBLIC</td><td>False</td><td>nan</td><td>232886116</td><td>996670586</td></tr>\n",
       "<tr><td>science</td><td>JWST</td><td>CALJWST</td><td>NIRSPEC/MSA</td><td>JWST</td><td>F170LP;G235M</td><td>INFRARED</td><td>excels_apt_cat_pointing_4</td><td>--</td><td>jw03543-o004_s000063962_nirspec_f170lp-g235m</td><td>34.28280541666666</td><td>-5.238541666666663</td><td>spectrum</td><td>Carnall, Adam</td><td>3</td><td>60329.825266851854</td><td>60330.058284363426</td><td>19695.0</td><td>1660.0</td><td>5000.0</td><td>EXCELS: The Early eXtragalactic Continuum and Emission Line Survey</td><td>60696.87763885</td><td>3543</td><td>GO</td><td>--</td><td>POLYGON 34.280567506 -5.220373868 34.281089011 -5.220373868 34.281089011 -5.22156746 34.280567506 -5.22156746</td><td>mast:JWST/product/jw03543-o004_s000063962_nirspec_f170lp-g235m_cal.jpg</td><td>mast:JWST/product/jw03543-o004_s000063962_nirspec_f170lp-g235m_s2d.fits</td><td>PUBLIC</td><td>False</td><td>nan</td><td>232886106</td><td>996670616</td></tr>\n",
       "<tr><td>science</td><td>JWST</td><td>CALJWST</td><td>NIRSPEC/MSA</td><td>JWST</td><td>F290LP;G395M</td><td>INFRARED</td><td>excels_apt_cat_pointing_4</td><td>--</td><td>jw03543-o004_b000000164_nirspec_f290lp-g395m</td><td>34.28280541666666</td><td>-5.238541666666663</td><td>spectrum</td><td>Carnall, Adam</td><td>3</td><td>60329.610876516206</td><td>60330.242334560186</td><td>14443.002</td><td>2870.0</td><td>5100.0</td><td>EXCELS: The Early eXtragalactic Continuum and Emission Line Survey</td><td>60696.87686333</td><td>3543</td><td>GO</td><td>--</td><td>POLYGON 34.26803845 -5.247171478 34.268395388 -5.247171478 34.268395388 -5.247987142 34.26803845 -5.247987142</td><td>mast:JWST/product/jw03543-o004_b000000164_nirspec_f290lp-g395m_cal.jpg</td><td>mast:JWST/product/jw03543-o004_b000000164_nirspec_f290lp-g395m_s2d.fits</td><td>PUBLIC</td><td>False</td><td>nan</td><td>232887316</td><td>996670637</td></tr>\n",
       "<tr><td>science</td><td>JWST</td><td>CALJWST</td><td>NIRSPEC/MSA</td><td>JWST</td><td>F290LP;G395M</td><td>INFRARED</td><td>excels_apt_cat_pointing_4</td><td>--</td><td>jw03543-o004_b000000162_nirspec_f290lp-g395m</td><td>34.28280541666666</td><td>-5.238541666666663</td><td>spectrum</td><td>Carnall, Adam</td><td>3</td><td>60329.610876516206</td><td>60330.242334560186</td><td>14443.002</td><td>2870.0</td><td>5100.0</td><td>EXCELS: The Early eXtragalactic Continuum and Emission Line Survey</td><td>60696.87686333</td><td>3543</td><td>GO</td><td>--</td><td>POLYGON 34.264197401 -5.256853985 34.264485559 -5.256853985 34.264485559 -5.257512302 34.264197401 -5.257512302</td><td>mast:JWST/product/jw03543-o004_b000000162_nirspec_f290lp-g395m_cal.jpg</td><td>mast:JWST/product/jw03543-o004_b000000162_nirspec_f290lp-g395m_s2d.fits</td><td>PUBLIC</td><td>False</td><td>nan</td><td>232887317</td><td>996670668</td></tr>\n",
       "<tr><td>science</td><td>JWST</td><td>CALJWST</td><td>NIRSPEC/MSA</td><td>JWST</td><td>F100LP;G140M</td><td>INFRARED</td><td>excels_apt_cat_pointing_4</td><td>--</td><td>jw03543-o004_s000040217_nirspec_f100lp-g140m</td><td>34.28280541666666</td><td>-5.238541666666663</td><td>spectrum</td><td>Carnall, Adam</td><td>3</td><td>60329.610876516206</td><td>60330.06755842592</td><td>14443.002</td><td>700.0</td><td>5000.0</td><td>EXCELS: The Early eXtragalactic Continuum and Emission Line Survey</td><td>60696.87755783</td><td>3543</td><td>GO</td><td>--</td><td>POLYGON 34.280382823 -5.260193258 34.280738161 -5.260193258 34.280738161 -5.261015639 34.280382823 -5.261015639</td><td>mast:JWST/product/jw03543-o004_s000040217_nirspec_f100lp-g140m_cal.jpg</td><td>mast:JWST/product/jw03543-o004_s000040217_nirspec_f100lp-g140m_s2d.fits</td><td>PUBLIC</td><td>False</td><td>nan</td><td>232885942</td><td>996670707</td></tr>\n",
       "<tr><td>science</td><td>JWST</td><td>CALJWST</td><td>NIRSPEC/MSA</td><td>JWST</td><td>F100LP;G140M</td><td>INFRARED</td><td>excels_apt_cat_pointing_4</td><td>--</td><td>jw03543-o004_s000065915_nirspec_f100lp-g140m</td><td>34.28280541666666</td><td>-5.238541666666663</td><td>spectrum</td><td>Carnall, Adam</td><td>3</td><td>60329.610876516206</td><td>60330.06755842592</td><td>14443.002</td><td>700.0</td><td>5000.0</td><td>EXCELS: The Early eXtragalactic Continuum and Emission Line Survey</td><td>60696.87686333</td><td>3543</td><td>GO</td><td>--</td><td>POLYGON 34.28038459 -5.216734045 34.280731439 -5.216734045 34.280731439 -5.21752742 34.28038459 -5.21752742</td><td>mast:JWST/product/jw03543-o004_s000065915_nirspec_f100lp-g140m_cal.jpg</td><td>mast:JWST/product/jw03543-o004_s000065915_nirspec_f100lp-g140m_s2d.fits</td><td>PUBLIC</td><td>False</td><td>nan</td><td>232886153</td><td>996670735</td></tr>\n",
       "<tr><td>science</td><td>JWST</td><td>CALJWST</td><td>NIRSPEC/MSA</td><td>JWST</td><td>F100LP;G140M</td><td>INFRARED</td><td>excels_apt_cat_pointing_4</td><td>--</td><td>jw03543-o004_s000058682_nirspec_f100lp-g140m</td><td>34.28280541666666</td><td>-5.238541666666663</td><td>spectrum</td><td>Carnall, Adam</td><td>3</td><td>60329.610876516206</td><td>60330.06755842592</td><td>14443.002</td><td>700.0</td><td>5000.0</td><td>EXCELS: The Early eXtragalactic Continuum and Emission Line Survey</td><td>60696.87755783</td><td>3543</td><td>GO</td><td>--</td><td>POLYGON 34.302050645 -5.228869292 34.302565994 -5.228869292 34.302565994 -5.230065606 34.302050645 -5.230065606</td><td>mast:JWST/product/jw03543-o004_s000058682_nirspec_f100lp-g140m_cal.jpg</td><td>mast:JWST/product/jw03543-o004_s000058682_nirspec_f100lp-g140m_s2d.fits</td><td>PUBLIC</td><td>False</td><td>nan</td><td>232886117</td><td>996670762</td></tr>\n",
       "<tr><td>...</td><td>...</td><td>...</td><td>...</td><td>...</td><td>...</td><td>...</td><td>...</td><td>...</td><td>...</td><td>...</td><td>...</td><td>...</td><td>...</td><td>...</td><td>...</td><td>...</td><td>...</td><td>...</td><td>...</td><td>...</td><td>...</td><td>...</td><td>...</td><td>...</td><td>...</td><td>...</td><td>...</td><td>...</td><td>...</td><td>...</td><td>...</td><td>...</td></tr>\n",
       "<tr><td>science</td><td>JWST</td><td>CALJWST</td><td>NIRSPEC/MSA</td><td>JWST</td><td>F100LP;G140M</td><td>INFRARED</td><td>excels_apt_cat_pointing_2</td><td>--</td><td>jw03543-o002_b000000057_nirspec_f100lp-g140m</td><td>34.260157916666664</td><td>-5.154972222222227</td><td>spectrum</td><td>Carnall, Adam</td><td>3</td><td>60301.1647827662</td><td>60301.620602916664</td><td>14443.002</td><td>700.0</td><td>5000.0</td><td>EXCELS: The Early eXtragalactic Continuum and Emission Line Survey</td><td>60668.05285881</td><td>3543</td><td>GO</td><td>--</td><td>POLYGON 34.228094914 -5.158245324 34.228378882 -5.158245324 34.228378882 -5.159240889 34.228094914 -5.159240889</td><td>mast:JWST/product/jw03543-o002_b000000057_nirspec_f100lp-g140m_cal.jpg</td><td>mast:JWST/product/jw03543-o002_b000000057_nirspec_f100lp-g140m_s2d.fits</td><td>PUBLIC</td><td>False</td><td>nan</td><td>232886201</td><td>996675262</td></tr>\n",
       "<tr><td>science</td><td>JWST</td><td>CALJWST</td><td>NIRSPEC/MSA</td><td>JWST</td><td>F100LP;G140M</td><td>INFRARED</td><td>excels_apt_cat_pointing_2</td><td>--</td><td>jw03543-o002_b000000023_nirspec_f100lp-g140m</td><td>34.260157916666664</td><td>-5.154972222222227</td><td>spectrum</td><td>Carnall, Adam</td><td>3</td><td>60301.1647827662</td><td>60301.620602916664</td><td>14443.002</td><td>700.0</td><td>5000.0</td><td>EXCELS: The Early eXtragalactic Continuum and Emission Line Survey</td><td>60668.05285881</td><td>3543</td><td>GO</td><td>--</td><td>POLYGON 34.259640974 -5.1817328 34.259831396 -5.1817328 34.259831396 -5.182425813 34.259640974 -5.182425813</td><td>mast:JWST/product/jw03543-o002_b000000023_nirspec_f100lp-g140m_cal.jpg</td><td>mast:JWST/product/jw03543-o002_b000000023_nirspec_f100lp-g140m_s2d.fits</td><td>PUBLIC</td><td>False</td><td>nan</td><td>232886192</td><td>996675285</td></tr>\n",
       "<tr><td>science</td><td>JWST</td><td>CALJWST</td><td>NIRSPEC/MSA</td><td>JWST</td><td>F170LP;G235M</td><td>INFRARED</td><td>excels_apt_cat_pointing_2</td><td>--</td><td>jw03543-o002_b000000069_nirspec_f170lp-g235m</td><td>34.260157916666664</td><td>-5.154972222222227</td><td>spectrum</td><td>Carnall, Adam</td><td>3</td><td>60301.37846763889</td><td>60301.61148515046</td><td>19695.0</td><td>1660.0</td><td>5000.0</td><td>EXCELS: The Early eXtragalactic Continuum and Emission Line Survey</td><td>60668.06594909</td><td>3543</td><td>GO</td><td>--</td><td>POLYGON 34.285092833 -5.133988627 34.285319873 -5.133988627 34.285319873 -5.134817652 34.285092833 -5.134817652</td><td>mast:JWST/product/jw03543-o002_b000000069_nirspec_f170lp-g235m_cal.jpg</td><td>mast:JWST/product/jw03543-o002_b000000069_nirspec_f170lp-g235m_s2d.fits</td><td>PUBLIC</td><td>False</td><td>nan</td><td>232886061</td><td>996675302</td></tr>\n",
       "<tr><td>science</td><td>JWST</td><td>CALJWST</td><td>NIRSPEC/MSA</td><td>JWST</td><td>F170LP;G235M</td><td>INFRARED</td><td>excels_apt_cat_pointing_2</td><td>--</td><td>jw03543-o002_s000093404_nirspec_f170lp-g235m</td><td>34.260157916666664</td><td>-5.154972222222227</td><td>spectrum</td><td>Carnall, Adam</td><td>3</td><td>60301.1647827662</td><td>60301.620602916664</td><td>19695.0</td><td>1660.0</td><td>5000.0</td><td>EXCELS: The Early eXtragalactic Continuum and Emission Line Survey</td><td>60668.06594909</td><td>3543</td><td>GO</td><td>--</td><td>POLYGON 34.244276139 -5.17308948 34.244589821 -5.17308948 34.244589821 -5.174209533 34.244276139 -5.174209533</td><td>mast:JWST/product/jw03543-o002_s000093404_nirspec_f170lp-g235m_cal.jpg</td><td>mast:JWST/product/jw03543-o002_s000093404_nirspec_f170lp-g235m_s2d.fits</td><td>PUBLIC</td><td>False</td><td>nan</td><td>232887671</td><td>996675319</td></tr>\n",
       "<tr><td>science</td><td>JWST</td><td>CALJWST</td><td>NIRSPEC/MSA</td><td>JWST</td><td>F290LP;G395M</td><td>INFRARED</td><td>excels_apt_cat_pointing_2</td><td>--</td><td>jw03543-o002_s000098834_nirspec_f290lp-g395m</td><td>34.260157916666664</td><td>-5.154972222222227</td><td>spectrum</td><td>Carnall, Adam</td><td>3</td><td>60301.1647827662</td><td>60301.79570423611</td><td>14443.002</td><td>2870.0</td><td>5100.0</td><td>EXCELS: The Early eXtragalactic Continuum and Emission Line Survey</td><td>60668.06569446</td><td>3543</td><td>GO</td><td>--</td><td>POLYGON 34.226829411 -5.164721223 34.227107075 -5.164721223 34.227107075 -5.165693867 34.226829411 -5.165693867</td><td>mast:JWST/product/jw03543-o002_s000098834_nirspec_f290lp-g395m_cal.jpg</td><td>mast:JWST/product/jw03543-o002_s000098834_nirspec_f290lp-g395m_s2d.fits</td><td>PUBLIC</td><td>False</td><td>nan</td><td>232886263</td><td>996675338</td></tr>\n",
       "<tr><td>science</td><td>JWST</td><td>CALJWST</td><td>NIRSPEC/MSA</td><td>JWST</td><td>F170LP;G235M</td><td>INFRARED</td><td>excels_apt_cat_pointing_2</td><td>--</td><td>jw03543-o002_b000000078_nirspec_f170lp-g235m</td><td>34.260157916666664</td><td>-5.154972222222227</td><td>spectrum</td><td>Carnall, Adam</td><td>3</td><td>60301.1647827662</td><td>60301.620602916664</td><td>19695.0</td><td>1660.0</td><td>5000.0</td><td>EXCELS: The Early eXtragalactic Continuum and Emission Line Survey</td><td>60668.06594909</td><td>3543</td><td>GO</td><td>--</td><td>POLYGON 34.268922475 -5.172805154 34.269117822 -5.172805154 34.269117822 -5.173520267 34.268922475 -5.173520267</td><td>mast:JWST/product/jw03543-o002_b000000078_nirspec_f170lp-g235m_cal.jpg</td><td>mast:JWST/product/jw03543-o002_b000000078_nirspec_f170lp-g235m_s2d.fits</td><td>PUBLIC</td><td>False</td><td>nan</td><td>232886206</td><td>996675357</td></tr>\n",
       "<tr><td>science</td><td>JWST</td><td>CALJWST</td><td>NIRSPEC/MSA</td><td>JWST</td><td>F100LP;G140M</td><td>INFRARED</td><td>excels_apt_cat_pointing_2</td><td>--</td><td>jw03543-o002_s000122359_nirspec_f100lp-g140m</td><td>34.260157916666664</td><td>-5.154972222222227</td><td>spectrum</td><td>Carnall, Adam</td><td>3</td><td>60301.1647827662</td><td>60301.620602916664</td><td>14443.002</td><td>700.0</td><td>5000.0</td><td>EXCELS: The Early eXtragalactic Continuum and Emission Line Survey</td><td>60668.06569446</td><td>3543</td><td>GO</td><td>--</td><td>POLYGON 34.254419136 -5.128871089 34.254728692 -5.128871089 34.254728692 -5.129976815 34.254419136 -5.129976815</td><td>mast:JWST/product/jw03543-o002_s000122359_nirspec_f100lp-g140m_cal.jpg</td><td>mast:JWST/product/jw03543-o002_s000122359_nirspec_f100lp-g140m_s2d.fits</td><td>PUBLIC</td><td>False</td><td>nan</td><td>232887674</td><td>996675376</td></tr>\n",
       "<tr><td>science</td><td>JWST</td><td>CALJWST</td><td>NIRSPEC/MSA</td><td>JWST</td><td>F290LP;G395M</td><td>INFRARED</td><td>excels_apt_cat_pointing_2</td><td>--</td><td>jw03543-o002_b000000142_nirspec_f290lp-g395m</td><td>34.260157916666664</td><td>-5.154972222222227</td><td>spectrum</td><td>Carnall, Adam</td><td>3</td><td>60301.1647827662</td><td>60301.79570423611</td><td>14443.002</td><td>2870.0</td><td>5100.0</td><td>EXCELS: The Early eXtragalactic Continuum and Emission Line Survey</td><td>60668.06569446</td><td>3543</td><td>GO</td><td>--</td><td>POLYGON 34.276114566 -5.132173682 34.276304903 -5.132173682 34.276304903 -5.132864338 34.276114566 -5.132864338</td><td>mast:JWST/product/jw03543-o002_b000000142_nirspec_f290lp-g395m_cal.jpg</td><td>mast:JWST/product/jw03543-o002_b000000142_nirspec_f290lp-g395m_s2d.fits</td><td>PUBLIC</td><td>False</td><td>nan</td><td>232886266</td><td>996675394</td></tr>\n",
       "<tr><td>science</td><td>JWST</td><td>CALJWST</td><td>NIRSPEC/MSA</td><td>JWST</td><td>F100LP;G140M</td><td>INFRARED</td><td>excels_apt_cat_pointing_2</td><td>--</td><td>jw03543-o002_s000091807_nirspec_f100lp-g140m</td><td>34.260157916666664</td><td>-5.154972222222227</td><td>spectrum</td><td>Carnall, Adam</td><td>3</td><td>60301.1647827662</td><td>60301.620602916664</td><td>14443.002</td><td>700.0</td><td>5000.0</td><td>EXCELS: The Early eXtragalactic Continuum and Emission Line Survey</td><td>60668.06594909</td><td>3543</td><td>GO</td><td>--</td><td>POLYGON 34.233730368 -5.175372445 34.23404831 -5.175372445 34.23404831 -5.176496616 34.233730368 -5.176496616</td><td>mast:JWST/product/jw03543-o002_s000091807_nirspec_f100lp-g140m_cal.jpg</td><td>mast:JWST/product/jw03543-o002_s000091807_nirspec_f100lp-g140m_s2d.fits</td><td>PUBLIC</td><td>False</td><td>nan</td><td>232886091</td><td>996675413</td></tr>\n",
       "<tr><td>science</td><td>JWST</td><td>CALJWST</td><td>NIRSPEC/MSA</td><td>JWST</td><td>F100LP;G140M</td><td>INFRARED</td><td>excels_apt_cat_pointing_2</td><td>--</td><td>jw03543-o002_b000000050_nirspec_f100lp-g140m</td><td>34.260157916666664</td><td>-5.154972222222227</td><td>spectrum</td><td>Carnall, Adam</td><td>3</td><td>60301.1647827662</td><td>60301.620602916664</td><td>14443.002</td><td>700.0</td><td>5000.0</td><td>EXCELS: The Early eXtragalactic Continuum and Emission Line Survey</td><td>60668.05285881</td><td>3543</td><td>GO</td><td>--</td><td>POLYGON 34.239163287 -5.140381238 34.239440462 -5.140381238 34.239440462 -5.141360492 34.239163287 -5.141360492</td><td>mast:JWST/product/jw03543-o002_b000000050_nirspec_f100lp-g140m_cal.jpg</td><td>mast:JWST/product/jw03543-o002_b000000050_nirspec_f100lp-g140m_s2d.fits</td><td>PUBLIC</td><td>False</td><td>nan</td><td>232886080</td><td>996675428</td></tr>\n",
       "</table></div>"
      ],
      "text/plain": [
       "<Table masked=True length=738>\n",
       "intentType obs_collection provenance_name ...  srcDen   obsid     objID  \n",
       "   str7         str4            str7      ... float64    str9      str9  \n",
       "---------- -------------- --------------- ... ------- --------- ---------\n",
       "   science           JWST         CALJWST ...     nan 232886033 996670559\n",
       "   science           JWST         CALJWST ...     nan 232887315 996670576\n",
       "   science           JWST         CALJWST ...     nan 232886116 996670586\n",
       "   science           JWST         CALJWST ...     nan 232886106 996670616\n",
       "   science           JWST         CALJWST ...     nan 232887316 996670637\n",
       "   science           JWST         CALJWST ...     nan 232887317 996670668\n",
       "   science           JWST         CALJWST ...     nan 232885942 996670707\n",
       "   science           JWST         CALJWST ...     nan 232886153 996670735\n",
       "   science           JWST         CALJWST ...     nan 232886117 996670762\n",
       "       ...            ...             ... ...     ...       ...       ...\n",
       "   science           JWST         CALJWST ...     nan 232886201 996675262\n",
       "   science           JWST         CALJWST ...     nan 232886192 996675285\n",
       "   science           JWST         CALJWST ...     nan 232886061 996675302\n",
       "   science           JWST         CALJWST ...     nan 232887671 996675319\n",
       "   science           JWST         CALJWST ...     nan 232886263 996675338\n",
       "   science           JWST         CALJWST ...     nan 232886206 996675357\n",
       "   science           JWST         CALJWST ...     nan 232887674 996675376\n",
       "   science           JWST         CALJWST ...     nan 232886266 996675394\n",
       "   science           JWST         CALJWST ...     nan 232886091 996675413\n",
       "   science           JWST         CALJWST ...     nan 232886080 996675428"
      ]
     },
     "execution_count": 38,
     "metadata": {},
     "output_type": "execute_result"
    }
   ],
   "source": [
    "obs_list"
   ]
  },
  {
   "cell_type": "code",
   "execution_count": 36,
   "id": "1f2cf7cd",
   "metadata": {},
   "outputs": [
    {
     "name": "stdout",
     "output_type": "stream",
     "text": [
      "                   obs_id                    ...\n",
      "-------------------------------------------- ...\n",
      "              jw03543004001_07101_00001_nrs2 ...\n",
      "              jw03543004001_07101_00001_nrs2 ...\n",
      "              jw03543004001_07101_00001_nrs2 ...\n",
      "              jw03543004001_07101_00001_nrs2 ...\n",
      "              jw03543004001_07101_00001_nrs1 ...\n",
      "              jw03543004001_07101_00001_nrs1 ...\n",
      "              jw03543004001_07101_00001_nrs1 ...\n",
      "              jw03543004001_07101_00001_nrs1 ...\n",
      "              jw03543004001_02101_00002_nrs1 ...\n",
      "              jw03543004001_02101_00002_nrs1 ...\n",
      "                                         ... ...\n",
      "              jw03543004001_07101_00004_nrs2 ...\n",
      "              jw03543004001_07101_00004_nrs1 ...\n",
      "              jw03543004001_07101_00004_nrs1 ...\n",
      "              jw03543004001_07101_00004_nrs1 ...\n",
      "              jw03543004001_07101_00004_nrs1 ...\n",
      "              jw03543004001_07101_00004_nrs1 ...\n",
      "              jw03543004001_07101_00004_nrs1 ...\n",
      "jw03543-o004_s000063107_nirspec_f290lp-g395m ...\n",
      "jw03543-o004_s000063107_nirspec_f290lp-g395m ...\n",
      "jw03543-o004_s000063107_nirspec_f290lp-g395m ...\n",
      "Length = 87 rows\n"
     ]
    }
   ],
   "source": [
    "from astroquery.mast import Observations\n",
    "\n",
    "# Get the product list for this obsid\n",
    "products = Observations.get_product_list('232886050')\n",
    "\n",
    "# Filter for science-ready spectra\n",
    "useful = Observations.filter_products(\n",
    "    products,\n",
    "    productType=\"SCIENCE\",          # only science products\n",
    "    extension=[\"fits\"],             # FITS files\n",
    "    mrp_only=False\n",
    ")\n",
    "\n",
    "print(useful[[\"obs_id\", \"productFilename\", \"productSubGroupDescription\", \"dataURI\"]])\n"
   ]
  },
  {
   "cell_type": "code",
   "execution_count": null,
   "id": "ade43358",
   "metadata": {},
   "outputs": [],
   "source": []
  }
 ],
 "metadata": {
  "kernelspec": {
   "display_name": "jwst",
   "language": "python",
   "name": "python3"
  },
  "language_info": {
   "codemirror_mode": {
    "name": "ipython",
    "version": 3
   },
   "file_extension": ".py",
   "mimetype": "text/x-python",
   "name": "python",
   "nbconvert_exporter": "python",
   "pygments_lexer": "ipython3",
   "version": "3.12.9"
  }
 },
 "nbformat": 4,
 "nbformat_minor": 5
}
